{
 "cells": [
  {
   "cell_type": "markdown",
   "metadata": {},
   "source": [
    "### **Scraping de um Usuário no LinkedIn**"
   ]
  },
  {
   "attachments": {},
   "cell_type": "markdown",
   "metadata": {},
   "source": [
    "https://www.youtube.com/watch?v=zkfLAY2OrtI"
   ]
  },
  {
   "attachments": {},
   "cell_type": "markdown",
   "metadata": {},
   "source": [
    "> **Instalações**:"
   ]
  },
  {
   "cell_type": "code",
   "execution_count": 22,
   "metadata": {},
   "outputs": [
    {
     "name": "stdout",
     "output_type": "stream",
     "text": [
      "Note: you may need to restart the kernel to use updated packages.\n"
     ]
    }
   ],
   "source": [
    "%pip install selenium python-time beautifulsoup4 -q\n"
   ]
  },
  {
   "attachments": {},
   "cell_type": "markdown",
   "metadata": {},
   "source": [
    "> **Bibliotecas**:"
   ]
  },
  {
   "cell_type": "code",
   "execution_count": 4,
   "metadata": {},
   "outputs": [],
   "source": [
    "from selenium import webdriver\n",
    "from selenium.webdriver.common.keys import Keys\n",
    "from selenium.webdriver.common.by import By\n",
    "from time import sleep\n",
    "from bs4 import BeautifulSoup\n",
    "from selenium.webdriver.chrome.service import Service\n",
    "from webdriver_manager.chrome import ChromeDriverManager"
   ]
  },
  {
   "attachments": {},
   "cell_type": "markdown",
   "metadata": {},
   "source": [
    "> **Login**:"
   ]
  },
  {
   "cell_type": "code",
   "execution_count": 12,
   "metadata": {},
   "outputs": [],
   "source": [
    "# passo 1: Logar no LinkedIn\n",
    "\n",
    "# iniciando o webdriver\n",
    "servico = Service(ChromeDriverManager().install())\n",
    "driver = webdriver.Chrome(service=servico)\n",
    "\n",
    "# definindo a url de navegação\n",
    "url = 'https://www.linkedin.com/login/pt?fromSignIn=true&trk=guest_homepage-basic_nav-header-signin'\n",
    "\n",
    "# obtendo o url\n",
    "driver.get(url)\n",
    "\n",
    "# esperando\n",
    "sleep(2)\n"
   ]
  },
  {
   "cell_type": "code",
   "execution_count": 8,
   "metadata": {},
   "outputs": [
    {
     "ename": "NoSuchElementException",
     "evalue": "Message: no such element: Unable to locate element: {\"method\":\"xpath\",\"selector\":\"//*[@id=\"main-content\"]/div/form/p/button\"}\n  (Session info: chrome=108.0.5359.125)\nStacktrace:\nBacktrace:\n\t(No symbol) [0x002BF243]\n\t(No symbol) [0x00247FD1]\n\t(No symbol) [0x0013D04D]\n\t(No symbol) [0x0016C0B0]\n\t(No symbol) [0x0016C22B]\n\t(No symbol) [0x0019E612]\n\t(No symbol) [0x001885D4]\n\t(No symbol) [0x0019C9EB]\n\t(No symbol) [0x00188386]\n\t(No symbol) [0x0016163C]\n\t(No symbol) [0x0016269D]\n\tGetHandleVerifier [0x00559A22+2655074]\n\tGetHandleVerifier [0x0054CA24+2601828]\n\tGetHandleVerifier [0x00368C0A+619850]\n\tGetHandleVerifier [0x00367830+614768]\n\t(No symbol) [0x002505FC]\n\t(No symbol) [0x00255968]\n\t(No symbol) [0x00255A55]\n\t(No symbol) [0x0026051B]\n\tBaseThreadInitThunk [0x7698FEF9+25]\n\tRtlGetAppContainerNamedObjectPath [0x77267BBE+286]\n\tRtlGetAppContainerNamedObjectPath [0x77267B8E+238]\n\t(No symbol) [0x00000000]\n",
     "output_type": "error",
     "traceback": [
      "\u001b[1;31m---------------------------------------------------------------------------\u001b[0m",
      "\u001b[1;31mNoSuchElementException\u001b[0m                    Traceback (most recent call last)",
      "Cell \u001b[1;32mIn [8], line 2\u001b[0m\n\u001b[0;32m      1\u001b[0m \u001b[39m# campo de entrar\u001b[39;00m\n\u001b[1;32m----> 2\u001b[0m entry_field \u001b[39m=\u001b[39m driver\u001b[39m.\u001b[39;49mfind_element(By\u001b[39m.\u001b[39;49mXPATH, \u001b[39m'\u001b[39;49m\u001b[39m//*[@id=\u001b[39;49m\u001b[39m\"\u001b[39;49m\u001b[39mmain-content\u001b[39;49m\u001b[39m\"\u001b[39;49m\u001b[39m]/div/form/p/button\u001b[39;49m\u001b[39m'\u001b[39;49m)\n\u001b[0;32m      4\u001b[0m \u001b[39m# clicando no botão\u001b[39;00m\n\u001b[0;32m      5\u001b[0m entry_field\u001b[39m.\u001b[39mclick()\n",
      "File \u001b[1;32m~\\AppData\\Roaming\\Python\\Python39\\site-packages\\selenium\\webdriver\\remote\\webdriver.py:855\u001b[0m, in \u001b[0;36mWebDriver.find_element\u001b[1;34m(self, by, value)\u001b[0m\n\u001b[0;32m    852\u001b[0m     by \u001b[39m=\u001b[39m By\u001b[39m.\u001b[39mCSS_SELECTOR\n\u001b[0;32m    853\u001b[0m     value \u001b[39m=\u001b[39m \u001b[39m'\u001b[39m\u001b[39m[name=\u001b[39m\u001b[39m\"\u001b[39m\u001b[39m%s\u001b[39;00m\u001b[39m\"\u001b[39m\u001b[39m]\u001b[39m\u001b[39m'\u001b[39m \u001b[39m%\u001b[39m value\n\u001b[1;32m--> 855\u001b[0m \u001b[39mreturn\u001b[39;00m \u001b[39mself\u001b[39;49m\u001b[39m.\u001b[39;49mexecute(Command\u001b[39m.\u001b[39;49mFIND_ELEMENT, {\n\u001b[0;32m    856\u001b[0m     \u001b[39m'\u001b[39;49m\u001b[39musing\u001b[39;49m\u001b[39m'\u001b[39;49m: by,\n\u001b[0;32m    857\u001b[0m     \u001b[39m'\u001b[39;49m\u001b[39mvalue\u001b[39;49m\u001b[39m'\u001b[39;49m: value})[\u001b[39m'\u001b[39m\u001b[39mvalue\u001b[39m\u001b[39m'\u001b[39m]\n",
      "File \u001b[1;32m~\\AppData\\Roaming\\Python\\Python39\\site-packages\\selenium\\webdriver\\remote\\webdriver.py:428\u001b[0m, in \u001b[0;36mWebDriver.execute\u001b[1;34m(self, driver_command, params)\u001b[0m\n\u001b[0;32m    426\u001b[0m response \u001b[39m=\u001b[39m \u001b[39mself\u001b[39m\u001b[39m.\u001b[39mcommand_executor\u001b[39m.\u001b[39mexecute(driver_command, params)\n\u001b[0;32m    427\u001b[0m \u001b[39mif\u001b[39;00m response:\n\u001b[1;32m--> 428\u001b[0m     \u001b[39mself\u001b[39;49m\u001b[39m.\u001b[39;49merror_handler\u001b[39m.\u001b[39;49mcheck_response(response)\n\u001b[0;32m    429\u001b[0m     response[\u001b[39m'\u001b[39m\u001b[39mvalue\u001b[39m\u001b[39m'\u001b[39m] \u001b[39m=\u001b[39m \u001b[39mself\u001b[39m\u001b[39m.\u001b[39m_unwrap_value(\n\u001b[0;32m    430\u001b[0m         response\u001b[39m.\u001b[39mget(\u001b[39m'\u001b[39m\u001b[39mvalue\u001b[39m\u001b[39m'\u001b[39m, \u001b[39mNone\u001b[39;00m))\n\u001b[0;32m    431\u001b[0m     \u001b[39mreturn\u001b[39;00m response\n",
      "File \u001b[1;32m~\\AppData\\Roaming\\Python\\Python39\\site-packages\\selenium\\webdriver\\remote\\errorhandler.py:243\u001b[0m, in \u001b[0;36mErrorHandler.check_response\u001b[1;34m(self, response)\u001b[0m\n\u001b[0;32m    241\u001b[0m         alert_text \u001b[39m=\u001b[39m value[\u001b[39m'\u001b[39m\u001b[39malert\u001b[39m\u001b[39m'\u001b[39m]\u001b[39m.\u001b[39mget(\u001b[39m'\u001b[39m\u001b[39mtext\u001b[39m\u001b[39m'\u001b[39m)\n\u001b[0;32m    242\u001b[0m     \u001b[39mraise\u001b[39;00m exception_class(message, screen, stacktrace, alert_text)  \u001b[39m# type: ignore[call-arg]  # mypy is not smart enough here\u001b[39;00m\n\u001b[1;32m--> 243\u001b[0m \u001b[39mraise\u001b[39;00m exception_class(message, screen, stacktrace)\n",
      "\u001b[1;31mNoSuchElementException\u001b[0m: Message: no such element: Unable to locate element: {\"method\":\"xpath\",\"selector\":\"//*[@id=\"main-content\"]/div/form/p/button\"}\n  (Session info: chrome=108.0.5359.125)\nStacktrace:\nBacktrace:\n\t(No symbol) [0x002BF243]\n\t(No symbol) [0x00247FD1]\n\t(No symbol) [0x0013D04D]\n\t(No symbol) [0x0016C0B0]\n\t(No symbol) [0x0016C22B]\n\t(No symbol) [0x0019E612]\n\t(No symbol) [0x001885D4]\n\t(No symbol) [0x0019C9EB]\n\t(No symbol) [0x00188386]\n\t(No symbol) [0x0016163C]\n\t(No symbol) [0x0016269D]\n\tGetHandleVerifier [0x00559A22+2655074]\n\tGetHandleVerifier [0x0054CA24+2601828]\n\tGetHandleVerifier [0x00368C0A+619850]\n\tGetHandleVerifier [0x00367830+614768]\n\t(No symbol) [0x002505FC]\n\t(No symbol) [0x00255968]\n\t(No symbol) [0x00255A55]\n\t(No symbol) [0x0026051B]\n\tBaseThreadInitThunk [0x7698FEF9+25]\n\tRtlGetAppContainerNamedObjectPath [0x77267BBE+286]\n\tRtlGetAppContainerNamedObjectPath [0x77267B8E+238]\n\t(No symbol) [0x00000000]\n"
     ]
    }
   ],
   "source": [
    "# campo de entrar\n",
    "entry_field = driver.find_element(By.XPATH, '//*[@id=\"main-content\"]/div/form/p/button')\n",
    "\n",
    "# clicando no botão\n",
    "entry_field.click()\n",
    "\n",
    "# esperando\n",
    "sleep(3)\n"
   ]
  },
  {
   "cell_type": "code",
   "execution_count": 5,
   "metadata": {},
   "outputs": [],
   "source": [
    "# abrindo o arquivo com a chave do linkedin\n",
    "with open(r'C:\\Users\\muril\\Documents\\GitHub\\curriculo-LaTeX\\zerolabs\\scraping linkedin\\entrada\\chaves\\conta_linkedin.txt', 'r') as f:\n",
    "    \n",
    "    # fazendo leitura das credenciais\n",
    "    credenciais = f.read().splitlines()\n"
   ]
  },
  {
   "cell_type": "code",
   "execution_count": null,
   "metadata": {},
   "outputs": [],
   "source": []
  },
  {
   "cell_type": "code",
   "execution_count": 14,
   "metadata": {},
   "outputs": [],
   "source": [
    "# campo de e-mail\n",
    "email_field = driver.find_element(By.ID, 'username')\n",
    "\n",
    "# preenchendo o valor\n",
    "email_field.send_keys('murilochaves@icloud.com')\n",
    "\n",
    "# esperando\n",
    "sleep(1)\n"
   ]
  },
  {
   "cell_type": "code",
   "execution_count": 16,
   "metadata": {},
   "outputs": [],
   "source": [
    "# campo da senha\n",
    "password_fiel = driver.find_element(By.ID, 'password')\n",
    "\n",
    "# preenchendo o valor\n",
    "password_fiel.send_keys('*')\n",
    "\n",
    "# esperando\n",
    "sleep(1)\n"
   ]
  },
  {
   "cell_type": "code",
   "execution_count": 18,
   "metadata": {},
   "outputs": [],
   "source": [
    "# botão de login\n",
    "login_field = driver.find_element(By.XPATH, '//*[@id=\"organic-div\"]/form/div[3]/button')\n",
    "\n",
    "# clicando no botão\n",
    "login_field.click()\n",
    "\n",
    "# esperando\n",
    "sleep(3)\n"
   ]
  },
  {
   "cell_type": "code",
   "execution_count": 19,
   "metadata": {},
   "outputs": [],
   "source": [
    "# direcionando para o perfil\n",
    "driver.get(url='https://www.linkedin.com/in/murilochaves/')\n",
    "\n",
    "# esperando\n",
    "sleep(1)\n"
   ]
  },
  {
   "attachments": {},
   "cell_type": "markdown",
   "metadata": {},
   "source": [
    "> **Procurar vagas**:"
   ]
  },
  {
   "cell_type": "code",
   "execution_count": 21,
   "metadata": {},
   "outputs": [
    {
     "ename": "ElementNotInteractableException",
     "evalue": "Message: element not interactable\n  (Session info: chrome=108.0.5359.125)\nStacktrace:\nBacktrace:\n\t(No symbol) [0x0046F243]\n\t(No symbol) [0x003F7FD1]\n\t(No symbol) [0x002ECF10]\n\t(No symbol) [0x0031795E]\n\t(No symbol) [0x003170E5]\n\t(No symbol) [0x0033858C]\n\t(No symbol) [0x00312BFF]\n\t(No symbol) [0x00338804]\n\t(No symbol) [0x0034C9EB]\n\t(No symbol) [0x00338386]\n\t(No symbol) [0x0031163C]\n\t(No symbol) [0x0031269D]\n\tGetHandleVerifier [0x00709A22+2655074]\n\tGetHandleVerifier [0x006FCA24+2601828]\n\tGetHandleVerifier [0x00518C0A+619850]\n\tGetHandleVerifier [0x00517830+614768]\n\t(No symbol) [0x004005FC]\n\t(No symbol) [0x00405968]\n\t(No symbol) [0x00405A55]\n\t(No symbol) [0x0041051B]\n\tBaseThreadInitThunk [0x76797D69+25]\n\tRtlInitializeExceptionChain [0x77A1BB9B+107]\n\tRtlClearBits [0x77A1BB1F+191]\n",
     "output_type": "error",
     "traceback": [
      "\u001b[1;31m---------------------------------------------------------------------------\u001b[0m",
      "\u001b[1;31mElementNotInteractableException\u001b[0m           Traceback (most recent call last)",
      "Cell \u001b[1;32mIn[21], line 5\u001b[0m\n\u001b[0;32m      2\u001b[0m search_field \u001b[39m=\u001b[39m driver\u001b[39m.\u001b[39mfind_element(By\u001b[39m.\u001b[39mCLASS_NAME, \u001b[39m'\u001b[39m\u001b[39msearch-global-typeahead__input\u001b[39m\u001b[39m'\u001b[39m)\n\u001b[0;32m      4\u001b[0m \u001b[39m# preenchendo valor\u001b[39;00m\n\u001b[1;32m----> 5\u001b[0m search_field\u001b[39m.\u001b[39;49msend_keys(\u001b[39m'\u001b[39;49m\u001b[39mvaga cientista de dados\u001b[39;49m\u001b[39m'\u001b[39;49m)\n\u001b[0;32m      7\u001b[0m \u001b[39m# realizando pesquisa\u001b[39;00m\n\u001b[0;32m      8\u001b[0m search_field\u001b[39m.\u001b[39msend_keys(Keys\u001b[39m.\u001b[39mRETURN)\n",
      "File \u001b[1;32mc:\\Users\\muril\\anaconda3\\envs\\cv-vitae\\lib\\site-packages\\selenium\\webdriver\\remote\\webelement.py:233\u001b[0m, in \u001b[0;36mWebElement.send_keys\u001b[1;34m(self, *value)\u001b[0m\n\u001b[0;32m    230\u001b[0m             remote_files\u001b[39m.\u001b[39mappend(\u001b[39mself\u001b[39m\u001b[39m.\u001b[39m_upload(file))\n\u001b[0;32m    231\u001b[0m         value \u001b[39m=\u001b[39m \u001b[39m\"\u001b[39m\u001b[39m\\n\u001b[39;00m\u001b[39m\"\u001b[39m\u001b[39m.\u001b[39mjoin(remote_files)\n\u001b[1;32m--> 233\u001b[0m \u001b[39mself\u001b[39;49m\u001b[39m.\u001b[39;49m_execute(\n\u001b[0;32m    234\u001b[0m     Command\u001b[39m.\u001b[39;49mSEND_KEYS_TO_ELEMENT, {\u001b[39m\"\u001b[39;49m\u001b[39mtext\u001b[39;49m\u001b[39m\"\u001b[39;49m: \u001b[39m\"\u001b[39;49m\u001b[39m\"\u001b[39;49m\u001b[39m.\u001b[39;49mjoin(keys_to_typing(value)), \u001b[39m\"\u001b[39;49m\u001b[39mvalue\u001b[39;49m\u001b[39m\"\u001b[39;49m: keys_to_typing(value)}\n\u001b[0;32m    235\u001b[0m )\n",
      "File \u001b[1;32mc:\\Users\\muril\\anaconda3\\envs\\cv-vitae\\lib\\site-packages\\selenium\\webdriver\\remote\\webelement.py:410\u001b[0m, in \u001b[0;36mWebElement._execute\u001b[1;34m(self, command, params)\u001b[0m\n\u001b[0;32m    408\u001b[0m     params \u001b[39m=\u001b[39m {}\n\u001b[0;32m    409\u001b[0m params[\u001b[39m\"\u001b[39m\u001b[39mid\u001b[39m\u001b[39m\"\u001b[39m] \u001b[39m=\u001b[39m \u001b[39mself\u001b[39m\u001b[39m.\u001b[39m_id\n\u001b[1;32m--> 410\u001b[0m \u001b[39mreturn\u001b[39;00m \u001b[39mself\u001b[39;49m\u001b[39m.\u001b[39;49m_parent\u001b[39m.\u001b[39;49mexecute(command, params)\n",
      "File \u001b[1;32mc:\\Users\\muril\\anaconda3\\envs\\cv-vitae\\lib\\site-packages\\selenium\\webdriver\\remote\\webdriver.py:444\u001b[0m, in \u001b[0;36mWebDriver.execute\u001b[1;34m(self, driver_command, params)\u001b[0m\n\u001b[0;32m    442\u001b[0m response \u001b[39m=\u001b[39m \u001b[39mself\u001b[39m\u001b[39m.\u001b[39mcommand_executor\u001b[39m.\u001b[39mexecute(driver_command, params)\n\u001b[0;32m    443\u001b[0m \u001b[39mif\u001b[39;00m response:\n\u001b[1;32m--> 444\u001b[0m     \u001b[39mself\u001b[39;49m\u001b[39m.\u001b[39;49merror_handler\u001b[39m.\u001b[39;49mcheck_response(response)\n\u001b[0;32m    445\u001b[0m     response[\u001b[39m\"\u001b[39m\u001b[39mvalue\u001b[39m\u001b[39m\"\u001b[39m] \u001b[39m=\u001b[39m \u001b[39mself\u001b[39m\u001b[39m.\u001b[39m_unwrap_value(response\u001b[39m.\u001b[39mget(\u001b[39m\"\u001b[39m\u001b[39mvalue\u001b[39m\u001b[39m\"\u001b[39m, \u001b[39mNone\u001b[39;00m))\n\u001b[0;32m    446\u001b[0m     \u001b[39mreturn\u001b[39;00m response\n",
      "File \u001b[1;32mc:\\Users\\muril\\anaconda3\\envs\\cv-vitae\\lib\\site-packages\\selenium\\webdriver\\remote\\errorhandler.py:249\u001b[0m, in \u001b[0;36mErrorHandler.check_response\u001b[1;34m(self, response)\u001b[0m\n\u001b[0;32m    247\u001b[0m         alert_text \u001b[39m=\u001b[39m value[\u001b[39m\"\u001b[39m\u001b[39malert\u001b[39m\u001b[39m\"\u001b[39m]\u001b[39m.\u001b[39mget(\u001b[39m\"\u001b[39m\u001b[39mtext\u001b[39m\u001b[39m\"\u001b[39m)\n\u001b[0;32m    248\u001b[0m     \u001b[39mraise\u001b[39;00m exception_class(message, screen, stacktrace, alert_text)  \u001b[39m# type: ignore[call-arg]  # mypy is not smart enough here\u001b[39;00m\n\u001b[1;32m--> 249\u001b[0m \u001b[39mraise\u001b[39;00m exception_class(message, screen, stacktrace)\n",
      "\u001b[1;31mElementNotInteractableException\u001b[0m: Message: element not interactable\n  (Session info: chrome=108.0.5359.125)\nStacktrace:\nBacktrace:\n\t(No symbol) [0x0046F243]\n\t(No symbol) [0x003F7FD1]\n\t(No symbol) [0x002ECF10]\n\t(No symbol) [0x0031795E]\n\t(No symbol) [0x003170E5]\n\t(No symbol) [0x0033858C]\n\t(No symbol) [0x00312BFF]\n\t(No symbol) [0x00338804]\n\t(No symbol) [0x0034C9EB]\n\t(No symbol) [0x00338386]\n\t(No symbol) [0x0031163C]\n\t(No symbol) [0x0031269D]\n\tGetHandleVerifier [0x00709A22+2655074]\n\tGetHandleVerifier [0x006FCA24+2601828]\n\tGetHandleVerifier [0x00518C0A+619850]\n\tGetHandleVerifier [0x00517830+614768]\n\t(No symbol) [0x004005FC]\n\t(No symbol) [0x00405968]\n\t(No symbol) [0x00405A55]\n\t(No symbol) [0x0041051B]\n\tBaseThreadInitThunk [0x76797D69+25]\n\tRtlInitializeExceptionChain [0x77A1BB9B+107]\n\tRtlClearBits [0x77A1BB1F+191]\n"
     ]
    }
   ],
   "source": [
    "# botão para pesquisar\n",
    "search_field = driver.find_element(By.CLASS_NAME, 'search-global-typeahead__input')\n",
    "\n",
    "# definindo o texto de pesquisa\n",
    "search_query = input('qual a vaga desejada?')\n",
    "\n",
    "# preenchendo valor\n",
    "search_field.send_keys(search_query)\n",
    "\n",
    "# realizando pesquisa\n",
    "search_field.send_keys(Keys.RETURN)\n"
   ]
  },
  {
   "attachments": {},
   "cell_type": "markdown",
   "metadata": {},
   "source": [
    "> **Perfis**:"
   ]
  },
  {
   "cell_type": "code",
   "execution_count": 24,
   "metadata": {},
   "outputs": [
    {
     "name": "stdout",
     "output_type": "stream",
     "text": [
      "https://www.linkedin.com/in/thao-nguyen-3019b19/\n"
     ]
    }
   ],
   "source": [
    "profile_id = '/in/thao-nguyen-3019b19/'\n",
    "profile_url = 'https://www.linkedin.com' + profile_id\n",
    "print(profile_url)\n"
   ]
  },
  {
   "cell_type": "code",
   "execution_count": null,
   "metadata": {},
   "outputs": [],
   "source": [
    "def get_urls():\n",
    "    page_source = BeautifulSoup(driver.page_source)\n",
    "    profiles = page_source.find_all('a', class_='search_result__result-link ember-view')\n",
    "\n",
    "    all_profiles_url = []\n",
    "\n",
    "    for profile in profiles:\n",
    "        profile_id = profile.get('href')\n",
    "        profile_url = 'https://www.linkedin.com' + profile_id\n",
    "        if profile_url not in all_profiles_url:\n",
    "            all_profiles_url.append(profile_url)\n",
    "\n",
    "    return all_profiles_url\n",
    "\n",
    "print(get_urls)\n"
   ]
  },
  {
   "cell_type": "code",
   "execution_count": null,
   "metadata": {},
   "outputs": [],
   "source": [
    "for page in range(number_of_page):\n",
    "    urls_one_page = get_urls()\n",
    "    window.scroolTo(X, Y)\n"
   ]
  },
  {
   "cell_type": "code",
   "execution_count": 24,
   "metadata": {},
   "outputs": [],
   "source": [
    "page_content = driver.page_source\n",
    "bs = BeautifulSoup(page_content)\n"
   ]
  },
  {
   "cell_type": "code",
   "execution_count": 30,
   "metadata": {},
   "outputs": [
    {
     "data": {
      "text/plain": [
       "'\\n\\n\\n\\nBacharel em Sistemas de Informação pela Universidade Luterana do Brasil \"Instituto Luterano de Ensino Superior de Itumbiara\" (ULBRA), e aluno do programa de MBA em Big Data Science na Faculdade de Informática e Administração Paulista (FIAP). Foi pesquisador em projetos com suporte da Fundação de Amparo à Pesquisa do Estado de Goiás (FAPEG). É cientista de dados na Callink com ênfase em pesquisa, e inovação voltadas para Callcenter.Bacharel em Sistemas de Informação pela Universidade Luterana do Brasil \"Instituto Luterano de Ensino Superior de Itumbiara\" (ULBRA), e aluno do programa de MBA em Big Data Science na Faculdade de Informática e Administração Paulista (FIAP). Foi pesquisador em projetos com suporte da Fundação de Amparo à Pesquisa do Estado de Goiás (FAPEG). É cientista de dados na Callink com ênfase em pesquisa, e inovação voltadas para Callcenter.\\n\\n\\n\\n'"
      ]
     },
     "execution_count": 30,
     "metadata": {},
     "output_type": "execute_result"
    }
   ],
   "source": [
    "sobre = bs.find('div', {'class':'display-flex ph5 pv3'}).text\n",
    "sobre"
   ]
  },
  {
   "cell_type": "markdown",
   "metadata": {},
   "source": []
  },
  {
   "cell_type": "code",
   "execution_count": null,
   "metadata": {},
   "outputs": [],
   "source": [
    "selenium\n",
    "chromedriver\n",
    "beautifulsoup4\n",
    "time\n",
    "csv\n"
   ]
  },
  {
   "cell_type": "code",
   "execution_count": null,
   "metadata": {},
   "outputs": [],
   "source": []
  }
 ],
 "metadata": {
  "kernelspec": {
   "display_name": "Python 3",
   "language": "python",
   "name": "python3"
  },
  "language_info": {
   "codemirror_mode": {
    "name": "ipython",
    "version": 3
   },
   "file_extension": ".py",
   "mimetype": "text/x-python",
   "name": "python",
   "nbconvert_exporter": "python",
   "pygments_lexer": "ipython3",
   "version": "3.9.12"
  },
  "vscode": {
   "interpreter": {
    "hash": "b85c5f4eefa76b10587b00362aee2ea32c599b1dd1c669edc11db9b0289a095c"
   }
  }
 },
 "nbformat": 4,
 "nbformat_minor": 4
}
